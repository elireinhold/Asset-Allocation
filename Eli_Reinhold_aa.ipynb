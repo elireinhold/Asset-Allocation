{
  "cells": [
    {
      "cell_type": "markdown",
      "metadata": {
        "id": "2qDgZ0KlCOId"
      },
      "source": [
        "# Asset Allocation Coding Challenge - Fall 2024"
      ]
    },
    {
      "cell_type": "code",
      "execution_count": 1020,
      "metadata": {
        "id": "Kalo17tHEMrU"
      },
      "outputs": [
        {
          "data": {
            "text/plain": [
              "'\\n\\nYour Name: Eli Reinhold\\n\\n'"
            ]
          },
          "execution_count": 1020,
          "metadata": {},
          "output_type": "execute_result"
        }
      ],
      "source": [
        "\"\"\"\n",
        "\n",
        "Your Name: Eli Reinhold\n",
        "\n",
        "\"\"\""
      ]
    },
    {
      "cell_type": "markdown",
      "metadata": {
        "id": "YoUQze4PDedu"
      },
      "source": [
        "The Asset Allocation team is dedicated to accurately predicting the behavior of the market sectors, and to providing optimal weights for these sectors in order to optimize holdings and exposures. Our goal, consistent with the rest of Quant, is to outperform the S&P 500 with higher returns and lower volatility. Asset Allocation is pillared on thorough research, creative modeling, and mathematical analysis."
      ]
    },
    {
      "cell_type": "markdown",
      "metadata": {
        "id": "Q-9imNQvFIaa"
      },
      "source": [
        "**Rules:**\n",
        "\n",
        "\n",
        "*   You are allowed to use ChatGPT, but you MUST cite it with a comment on each line written by it.\n",
        "*   Any code not written by you must be cited similarly.\n",
        "*   No machine learning is allowed for this challenge."
      ]
    },
    {
      "cell_type": "markdown",
      "metadata": {
        "id": "z7-eh_zhEW3-"
      },
      "source": [
        "**Hints:**\n",
        "\n",
        "\n",
        "*   Read all of the instructions carefully!\n",
        "*   Comment your code with as much detail as you can. The easier it is for us to follow, the better!\n",
        "*   Above everything else, we are looking to see that you can think creatively, and justify your thought process.\n",
        "*   Don't give up if you get stuck! It's better to submit something that's the best that you can do, instead of quitting and not submitting anything.\n",
        "\n"
      ]
    },
    {
      "cell_type": "markdown",
      "metadata": {
        "id": "-akn1NG1DGoV"
      },
      "source": [
        "# Part 0: Data"
      ]
    },
    {
      "cell_type": "markdown",
      "metadata": {
        "id": "z7NpduvuDcZo"
      },
      "source": [
        "In the following cell, import any libraries you need."
      ]
    },
    {
      "cell_type": "code",
      "execution_count": 1021,
      "metadata": {
        "id": "11KLCIBuDqE1"
      },
      "outputs": [],
      "source": [
        "import pandas as pd\n",
        "import matplotlib.pyplot as plt\n",
        "import statistics"
      ]
    },
    {
      "cell_type": "markdown",
      "metadata": {
        "id": "UtYwywvIGa0J"
      },
      "source": [
        "In the following cell, write your code to load and preprocess the data given to you for Part 1 of the challenge. All data collection for Part 1 should be done here."
      ]
    },
    {
      "cell_type": "code",
      "execution_count": 1022,
      "metadata": {
        "id": "RBQ7YBwaGaZt"
      },
      "outputs": [],
      "source": [
        "class ReadFile:\n",
        "    #Stack Overflow\n",
        "    #Constructor to read csv file\n",
        "    def __init__(self, file_path):\n",
        "        self.file_path = file_path\n",
        "    \n",
        "    #Stack Overflow\n",
        "    #Make it able to read both csv and excel files because we are dealing with both\n",
        "    def read_file(self):\n",
        "        return pd.read_excel(self.file_path)\n",
        "    \n",
        "sheet1 = ReadFile(\"C:\\\\Users\\\\elire\\\\Downloads\\\\F24 SSMIF Quant Coding Challenge\\\\Challenges\\\\Asset Allocation Challenge\\\\CAPM_Challenge_Data.xlsx\")\n",
        "data1 = sheet1.read_file()\n",
        "\n",
        "#This changes the data into daily returns to help calcuate beta for CAPM\n",
        "def daily_return(data):\n",
        "    for column in data.columns[1:]: \n",
        "        #Chat GPT\n",
        "        data[column] = data[column].pct_change() * 100\n",
        "    return data\n",
        "\n",
        "stocks_daily_return = daily_return(data1)"
      ]
    },
    {
      "cell_type": "markdown",
      "metadata": {
        "id": "wZp8hSLAGm2K"
      },
      "source": [
        "In the following cell, write your code to load and preprocess the data given to you for Part 2 of the challenge. If you decide to pull any other data for this model, do that here too. All data collection for Part 2 should be done here."
      ]
    },
    {
      "cell_type": "code",
      "execution_count": 1023,
      "metadata": {
        "id": "DyJb_bmIGmlW"
      },
      "outputs": [],
      "source": [
        "data2 = pd.read_excel(\"C:\\\\Users\\\\elire\\\\Downloads\\\\F24 SSMIF Quant Coding Challenge\\\\Challenges\\\\Asset Allocation Challenge\\\\AssetAllocationChallengePart2Data.xlsx\", sheet_name=None)\n",
        "#Geeksforgeeks\n",
        "def get_sheet_data(sheet):\n",
        "    data = data2[sheet]\n",
        "    return data"
      ]
    },
    {
      "cell_type": "markdown",
      "metadata": {
        "id": "pSVTK1l0DqvG"
      },
      "source": [
        "In the following cell, write any comments about your code and reasoning, such as why you processed the data in a certain way, what you noticed, where you found any additional data (if you decide to do so), etc."
      ]
    },
    {
      "cell_type": "code",
      "execution_count": 1024,
      "metadata": {
        "id": "4JLQpGM4DvHy"
      },
      "outputs": [
        {
          "data": {
            "text/plain": [
              "'\\nFor part 1 I read the data and changed the data into daily returns to help calcuate beta for CAPM.\\n\\nFor part 2 I made a fucntion to get the data of each sheet individually. I did this because I only\\nneed to access one sheet at a time. There were no inconsistancies in the data (like no null values \\nor char other than int) so no need to clean the data.\\n'"
            ]
          },
          "execution_count": 1024,
          "metadata": {},
          "output_type": "execute_result"
        }
      ],
      "source": [
        "\"\"\"\n",
        "For part 1 I read the data and changed the data into daily returns to help calcuate beta for CAPM.\n",
        "\n",
        "For part 2 I made a fucntion to get the data of each sheet individually. I did this because I only\n",
        "need to access one sheet at a time. There were no inconsistancies in the data (like no null values \n",
        "or char other than int) so no need to clean the data.\n",
        "\"\"\""
      ]
    },
    {
      "cell_type": "markdown",
      "metadata": {
        "id": "9JlqdtkfGEF6"
      },
      "source": [
        "# Part 1: Capital Asset Pricing Model (CAPM)"
      ]
    },
    {
      "cell_type": "markdown",
      "metadata": {
        "id": "yBbpqp1nGG5I"
      },
      "source": [
        "The Capital Asset Pricing Model (CAPM) is a popular model that describes the relationship between the expected return and the risk of investing in a security.\n",
        "\n",
        "In the following cell, implement the Capital Asset Pricing Model on the data given to you for Part 1.\n",
        "\n",
        "Your final result should be the expected annualized returns for the assets given in the data."
      ]
    },
    {
      "cell_type": "code",
      "execution_count": 1025,
      "metadata": {
        "id": "OfrlwgmuG4Ho"
      },
      "outputs": [
        {
          "name": "stdout",
          "output_type": "stream",
          "text": [
            "stock1: 10.26%\n",
            "stock2: 7.18%\n",
            "stock3: 6.08%\n",
            "stock4: 5.95%\n",
            "stock5: 7.20%\n",
            "stock6: 6.91%\n",
            "stock7: 4.87%\n",
            "stock8: 4.84%\n",
            "stock9: 4.88%\n",
            "stock10: 5.74%\n",
            "stock11: 5.95%\n",
            "stock12: 8.44%\n",
            "stock13: 5.23%\n",
            "stock14: 5.10%\n",
            "stock15: 5.09%\n"
          ]
        }
      ],
      "source": [
        "#CAPM Formula: ri = rf + Bi(rm-rf)\n",
        "#S&P 500 annual return is 10.26% = rm\n",
        "#10-year treasury rate is 4.08% = rf\n",
        "\n",
        "def CAPM(stocks_df):\n",
        "    rf = 4.08\n",
        "    rm = 10.26\n",
        "    for column in stocks_df.columns[1:]:\n",
        "        #Chat GPT\n",
        "        #Gets all rows of the second column of the data\n",
        "        market_returns = stocks_daily_return.iloc[:, 1]\n",
        "        \n",
        "        #Stack Overflow, chatGPT\n",
        "        #Calculates coveriance\n",
        "        covariance = stocks_df[column].cov(market_returns)\n",
        "        #Stack Overflow\n",
        "        #Calculates variance\n",
        "        market_variance = market_returns.var()\n",
        "        #Calculates Beta\n",
        "        Bi = covariance / market_variance\n",
        "        \n",
        "        #Calculates the expected return using CAPM formula\n",
        "        expected_return = rf + Bi * (rm - rf)\n",
        "\n",
        "        #ChatGPT for fromating\n",
        "        print(column+ ': ' + f'{expected_return:.2f}%')\n",
        "\n",
        "#Implements CAPM and returns expected annualized returns for the assests given compared to S&P 500\n",
        "CAPM(stocks_daily_return)"
      ]
    },
    {
      "cell_type": "markdown",
      "metadata": {
        "id": "LPJ0NvGdHRgl"
      },
      "source": [
        "In the following cell, write any comments about your code and reasoning, such as why you implemented the CAPM in a specific way, what you noticed, what the significance of this is, etc."
      ]
    },
    {
      "cell_type": "code",
      "execution_count": 1026,
      "metadata": {
        "id": "7F4hNQOJHRLl"
      },
      "outputs": [
        {
          "data": {
            "text/plain": [
              "'\\nI researched what a CAPM is and came across the equation: ri = rf + Bi(rm-rf).\\nI decide to use the annual return of the S&P500 for Rm because it is the expected return of the market.\\nThe S&P500 is a good baseline to use because it tracks the performance of the 500 largest companies.\\nI used the 10-year treasury rate for rf because bonds are risk free. The signifance of the CAPM is\\nthat since beta is less than 1, it tells investors that the security has less systematic risk and volatility\\nthan the market. This means the the stock is less sensitive to the markets movements and is considered a\\nstable investment.\\n'"
            ]
          },
          "execution_count": 1026,
          "metadata": {},
          "output_type": "execute_result"
        }
      ],
      "source": [
        "\"\"\"\n",
        "I researched what a CAPM is and came across the equation: ri = rf + Bi(rm-rf).\n",
        "I decide to use the annual return of the S&P500 for Rm because it is the expected return of the market.\n",
        "The S&P500 is a good baseline to use because it tracks the performance of the 500 largest companies.\n",
        "I used the 10-year treasury rate for rf because bonds are risk free. The signifance of the CAPM is\n",
        "that since beta is less than 1, it tells investors that the security has less systematic risk and volatility\n",
        "than the market. This means the the stock is less sensitive to the markets movements and is considered a\n",
        "stable investment.\n",
        "\"\"\""
      ]
    },
    {
      "cell_type": "markdown",
      "metadata": {
        "id": "hF2WGKmRHqFy"
      },
      "source": [
        "# Part 2: Three-Factor Model"
      ]
    },
    {
      "cell_type": "markdown",
      "metadata": {
        "id": "NPPFv2igHsdT"
      },
      "source": [
        "The objective of this is to create a three-factor model based on the provided data for Part 2.\n",
        "\n",
        "The CAPM is essentially a one-factor model, where the factor is the market risk. We want you to implement a three-factor model of your choosing.\n",
        "\n",
        "Be creative!\n",
        "\n",
        "Your model does not necessarily need to perform well. We are mainly looking to see your creativity and whether you can express your thought process.\n",
        "\n",
        "You are free to pull any additional data, or you can stick with the financial data given to you for this part.\n",
        "\n",
        "In the following cell, implement your three-factor model.\n",
        "\n",
        "Your final result should be the optimal weights for the 15 assets in this mock portfolio."
      ]
    },
    {
      "cell_type": "code",
      "execution_count": 1027,
      "metadata": {
        "id": "_-MRcBhvIoyp"
      },
      "outputs": [
        {
          "name": "stdout",
          "output_type": "stream",
          "text": [
            "AAPL: 5.09%\n",
            "ADBE: 13.03%\n",
            "AMZN: 5.87%\n",
            "BIIB: 4.43%\n",
            "F: 7.16%\n",
            "MNST: 6.81%\n",
            "MSFT: 6.32%\n",
            "NFLX: 9.37%\n",
            "NVDA: 1.54%\n",
            "OXY: 1.58%\n",
            "POOL: 10.79%\n",
            "RMD: 6.97%\n",
            "ROST: 3.32%\n",
            "TAP: 3.55%\n",
            "V: 5.83%\n"
          ]
        }
      ],
      "source": [
        "#Calcuates P/E = share_price / eps\n",
        "def pe_ratio(sheet, current_share_price):\n",
        "    #Gets data from sheet\n",
        "    sheet_data = get_sheet_data(sheet)\n",
        "    #Gets eps from column\n",
        "    recent_eps = sheet_data['epsDil'].iloc[0]\n",
        "    #calcuates share_price/eps\n",
        "    return current_share_price/recent_eps\n",
        "\n",
        "#Calcuates EV/BITDA\n",
        "def evebitda_ratio(sheet, current_share_price):\n",
        "    #Gets data from sheet\n",
        "    sheet_data = get_sheet_data(sheet)\n",
        "    #Calcuates market cap = share price * share weighted average\n",
        "    market_cap = current_share_price * sheet_data['shareswa'].iloc[0]\n",
        "    #Calcuates total debt = current debt + non current debt\n",
        "    total_debt = sheet_data['debtCurrent'].iloc[0] + sheet_data['debtNonCurrent'].iloc[0]\n",
        "    #ev = market_cap + total_debt - liquid assests\n",
        "    ev =  market_cap +  total_debt - sheet_data['cashAndEq'].iloc[0]\n",
        "\n",
        "    #ebitda = ebit + Depreciation and Amortization\n",
        "    ebitda = sheet_data['ebit'].iloc[0] + sheet_data['depamor'].iloc[0]\n",
        "    \n",
        "    #Calcuates ratio\n",
        "    return ev/ebitda\n",
        "\n",
        "def ps_ratio(sheet, current_share_price):\n",
        "    #Gets data from sheet\n",
        "    sheet_data = get_sheet_data(sheet)\n",
        "    #Calcuates market cap = share price * share weighted average\n",
        "    market_cap = current_share_price * sheet_data['shareswa'].iloc[0]\n",
        "    #Gets revenue of stock\n",
        "    rev = sheet_data['revenue'].iloc[0]\n",
        "    #Calcuates ratio\n",
        "    return market_cap/rev\n",
        "\n",
        "def model(data):\n",
        "    #Gets current share prices of each stock in order of sheets\n",
        "    current_share_price = [236.37, 496.98, 188.76, 185.36, 10.96, 54.16, 416.88, 739.39, 142.26, 51.82, 359.37, 240.25, 147.37, 55.96, 287.65]\n",
        "    counter = 0\n",
        "    for sheet in data:\n",
        "        #Calcuates ratios for each stock\n",
        "        pe = pe_ratio(sheet, current_share_price[counter])\n",
        "        ev = evebitda_ratio(sheet, current_share_price[counter])\n",
        "        ps = ps_ratio(sheet, current_share_price[counter])\n",
        "        #Adds ratios up to get an overall picture of performance\n",
        "        total = .30*pe + .40*ev + .30*ps\n",
        "        #Finds weights by dividing by number of stocks\n",
        "        weight = total/15\n",
        "        #Prints out weights\n",
        "        print(sheet+ ': ' + f'{weight:.2f}%')\n",
        "        counter = counter + 1\n",
        "model(data2)\n",
        "\n"
      ]
    },
    {
      "cell_type": "markdown",
      "metadata": {
        "id": "EXmB2cPjIpF3"
      },
      "source": [
        "In the following cell, write any comments about your code and reasoning, such as what your factors were, how you decided on them, what your thought process was, what worked and didn't work, etc. Justify your model as best as you can."
      ]
    },
    {
      "cell_type": "code",
      "execution_count": 1028,
      "metadata": {
        "id": "rtkvpwscJEgM"
      },
      "outputs": [
        {
          "data": {
            "text/plain": [
              "\"\\n\\nFactor 1: P/E\\nI decided to use P/E because it helps understand a company's value compared to its earnings.\\nThis can see if a stock is overvalued or undervalued and its future growth potential.\\n\\nFactor 2: EV/EBITDA\\nI decided to use EV/EBITDA because it allows investors to compare the value of companies\\nwithout interest and taxes, providing a more pure evaluation.\\n\\nFactor 3: P/S\\nI used this because it determines with the stock is valued properly.\\n\\nI weighted each value as such because EV/EBITDA values more of the stability of the stock\\nwhile the other 2 value more of the stocks growth. From what I found, it seems like it is better\\nto invest in stable rather than growth. I used these 3 metrics specifically because they are\\n3 of the most common that are used by professionals.\\n\\nA short coming of this model is that it from my research it seems like a higher P/E and lower EV/EBITDA\\nand P/S is ideal. My model currently acts like a higher number is good for all ratios when in reality it\\nmost likely is not.\\n\""
            ]
          },
          "execution_count": 1028,
          "metadata": {},
          "output_type": "execute_result"
        }
      ],
      "source": [
        "\"\"\"\n",
        "\n",
        "Factor 1: P/E\n",
        "I decided to use P/E because it helps understand a company's value compared to its earnings.\n",
        "This can see if a stock is overvalued or undervalued and its future growth potential.\n",
        "\n",
        "Factor 2: EV/EBITDA\n",
        "I decided to use EV/EBITDA because it allows investors to compare the value of companies\n",
        "without interest and taxes, providing a more pure evaluation.\n",
        "\n",
        "Factor 3: P/S\n",
        "I used this because it determines with the stock is valued properly.\n",
        "\n",
        "I weighted each value as such because EV/EBITDA values more of the stability of the stock\n",
        "while the other 2 value more of the stocks growth. From what I found, it seems like it is better\n",
        "to invest in stable rather than growth. I used these 3 metrics specifically because they are\n",
        "3 of the most common that are used by professionals.\n",
        "\n",
        "A short coming of this model is that it from my research it seems like a higher P/E and lower EV/EBITDA\n",
        "and P/S is ideal. My model currently acts like a higher number is good for all ratios when in reality it\n",
        "most likely is not.\n",
        "\"\"\""
      ]
    },
    {
      "cell_type": "markdown",
      "metadata": {
        "id": "_T4zgY7LJkpe"
      },
      "source": [
        "# Part 3: Backtesting"
      ]
    },
    {
      "cell_type": "markdown",
      "metadata": {
        "id": "_joolQtLJmsc"
      },
      "source": [
        "A very important part of the model-building process is backtesting. Backtesting is where you compare your model's performance against a benchmark to see how well it performs. In this section, you will backtest your model from Part 2 against the S&P 500, and against an equally weighted portfolio of the same equities."
      ]
    },
    {
      "cell_type": "markdown",
      "metadata": {
        "id": "OEVKbIhjKbpu"
      },
      "source": [
        "In the following cell, backtest your model from Part 2 against the S&P 500. In addition to plotting the returns, provide the Sharpe Ratio, Cumulative Returns, and Volatility against the S&P 500."
      ]
    },
    {
      "cell_type": "code",
      "execution_count": 1029,
      "metadata": {
        "id": "DWE4_oenKtIc"
      },
      "outputs": [
        {
          "data": {
            "image/png": "[encoded data removed]",
            "text/plain": [
              "<Figure size 1200x600 with 1 Axes>"
            ]
          },
          "metadata": {},
          "output_type": "display_data"
        },
        {
          "name": "stdout",
          "output_type": "stream",
          "text": [
            "Sharpe Ratio of portfolio: 1.89\n",
            "Sharpe Ratio of S&P500: 2.85\n",
            "Cummaltive Retrun of portfolio: 23.92%\n",
            "Cummaltive Retrun of S&P500: 38.82%\n",
            "Volatility of portfolio: 10.44%\n",
            "Volatility of S&P500: 11.06%\n"
          ]
        }
      ],
      "source": [
        "#Chat GPT\n",
        "#Returns dictionary of annual returns of the model, the stocks, and S&P500\n",
        "def annual_return_of_model():\n",
        "    #Dictionary of returns for each stock\n",
        "    returns = {\n",
        "        'AAPL': 0.0509 * 0.3654,\n",
        "        'ADBE': 0.1303 * -0.0818,\n",
        "        'AMZN': 0.0587 * .4939,\n",
        "        'BIIB': 0.0443 * -0.2727,\n",
        "        'F': 0.0716 * -0.0457,\n",
        "        'MNST': 0.0681 * 0.0742,\n",
        "        'MSFT': 0.0632 * 0.2666,\n",
        "        'NFLX': 0.0937 * 0.8973,\n",
        "        'NVDA': 0.0154 * 2.3046,\n",
        "        'OXY': 0.0158 * -0.1753,\n",
        "        'POOL': 0.1079 * 0.1131,\n",
        "        'RMD': 0.0697 * 0.6327,\n",
        "        'ROST': 0.0332 * 0.287,\n",
        "        'TAP': 0.0355 * -0.0288,\n",
        "        'V': 0.0583 * 0.2425,\n",
        "    }\n",
        "    #Adds returns for total return of portfolio\n",
        "    total_return = sum(returns.values())\n",
        "    #Adds total return to the dictionary\n",
        "    returns['Total'] = total_return \n",
        "    #Adds return of S&P500 to dictionary\n",
        "    returns['S&P500'] = .3857\n",
        "    return returns\n",
        "\n",
        "\n",
        "#Calls the function to get the returns\n",
        "returns = annual_return_of_model()\n",
        "\n",
        "#Chat GPT\n",
        "#Separates the stocks and their returns for plotting\n",
        "stocks = list(returns.keys())\n",
        "values = list(returns.values())\n",
        "\n",
        "#Chat GPT\n",
        "#Plots the bar graph\n",
        "plt.figure(figsize=(12, 6))\n",
        "plt.bar(stocks, values)\n",
        "plt.show()\n",
        "\n",
        "\n",
        "total_return = 0.23922620000000003\n",
        "#Sharpe Ratio = (Ri - Rf)/sigmap\n",
        "def sharpe_ratio(returns, stocks):\n",
        "    #I used treasury yeild for the risk free rate\n",
        "    treasury_yield = .0419\n",
        "    #Calculates excess return\n",
        "    excess_return = returns - treasury_yield\n",
        "    #Stack Overflow\n",
        "    #Calculates the standard deviation of portfolio \n",
        "    std_excess_return = statistics.stdev(stocks)\n",
        "\n",
        "    return excess_return/std_excess_return\n",
        "\n",
        "#Calculates sharpe ratio of portfolio\n",
        "ratio = sharpe_ratio(total_return, values)\n",
        "\n",
        "#Finds volatility of portflio\n",
        "def volatility(stocks):\n",
        "    #Calculates standard deviation\n",
        "    std_excess_return = statistics.stdev(stocks)\n",
        "    return std_excess_return\n",
        "\n",
        "#Calcualates volatility of portflio\n",
        "vol = volatility(values)\n",
        "\n",
        "#Prints sharpe ratio, volatility, and cummaltive returns\n",
        "print('Sharpe Ratio of portfolio: ' + f'{ratio:.2f}')\n",
        "#According to PortfoliosLab\n",
        "print('Sharpe Ratio of S&P500: 2.85')\n",
        "\n",
        "print('Cummaltive Retrun of portfolio: ' + f'{total_return*100:.2f}%')\n",
        "#According to Google Market Summary\n",
        "print('Cummaltive Retrun of S&P500: 38.82%')\n",
        "\n",
        "print('Volatility of portfolio: ' + f'{vol*100:.2f}%')\n",
        "#According to V-Lab\n",
        "print('Volatility of S&P500: 11.06%')"
      ]
    },
    {
      "cell_type": "markdown",
      "metadata": {
        "id": "dxR2ZllbKtf5"
      },
      "source": [
        "In the following cell, backtest your model from Part 2 against an equally weighted portfolio of the same equities. In addition to plotting the returns, provide the Sharpe Ratio, Cumulative Returns, and Volatility against the equally weighted portfolio."
      ]
    },
    {
      "cell_type": "code",
      "execution_count": 1030,
      "metadata": {
        "id": "YwSGwDz6KzMX"
      },
      "outputs": [
        {
          "data": {
            "image/png": "[encoded data removed]",
            "text/plain": [
              "<Figure size 1200x600 with 1 Axes>"
            ]
          },
          "metadata": {},
          "output_type": "display_data"
        },
        {
          "name": "stdout",
          "output_type": "stream",
          "text": [
            "Sharpe Ratio of equal portfolio: 3.02\n",
            "Sharpe Ratio of my portfolio: 1.89\n",
            "Cummaltive Retrun of equal portfolio: 33.82%\n",
            "Cummaltive Retrun of my portfolio: 23.92%\n",
            "Volatility of equal portfolio: 9.83%\n",
            "Volatility of my portfolio: 10.44%\n"
          ]
        }
      ],
      "source": [
        "def annual_return_of_equal():\n",
        "    #Dictionary of returns for each stock with equal weights\n",
        "    returns = {\n",
        "        'AAPL': (1/15) * 0.3654,\n",
        "        'ADBE': (1/15)  * -0.0818,\n",
        "        'AMZN': (1/15) * .4939,\n",
        "        'BIIB':(1/15)  * -0.2727,\n",
        "        'F': (1/15) * -0.0457,\n",
        "        'MNST': (1/15) * 0.0742,\n",
        "        'MSFT': (1/15) * 0.2666,\n",
        "        'NFLX': (1/15) * 0.8973,\n",
        "        'NVDA': (1/15) * 2.3046,\n",
        "        'OXY': (1/15) * -0.1753,\n",
        "        'POOL': (1/15) * 0.1131,\n",
        "        'RMD': (1/15) * 0.6327,\n",
        "        'ROST': (1/15) * 0.287,\n",
        "        'TAP': (1/15) * -0.0288,\n",
        "        'V': (1/15) * 0.2425,\n",
        "    }\n",
        "    #Adds returns for total return of equal weighted portfolio\n",
        "    total_return = sum(returns.values())\n",
        "    #Adds total return of equal weighted portfolio to the dictionary\n",
        "    returns['Equal'] = total_return \n",
        "    #Adds return of my portfolio to dictionary\n",
        "    returns['Weighted'] = 0.23922620000000003\n",
        "    return returns\n",
        "\n",
        "#Calls the function to get the returns\n",
        "returns = annual_return_of_equal()\n",
        "\n",
        "#Separates the stocks and their returns for plotting\n",
        "stocks = list(returns.keys())\n",
        "values = list(returns.values())\n",
        "\n",
        "#Plots the bar graph\n",
        "plt.figure(figsize=(12, 6))\n",
        "plt.bar(stocks, values)\n",
        "plt.show()\n",
        "\n",
        "#Calcuates sharpe ratio and volatility of equal weight portfolio\n",
        "total_return = 0.3382\n",
        "ratio = sharpe_ratio(total_return, values)\n",
        "vol = volatility(values)\n",
        "\n",
        "#Prints sharpe ratio, volatility, and cummaltive returns\n",
        "print('Sharpe Ratio of equal portfolio: ' + f'{ratio:.2f}')\n",
        "print('Sharpe Ratio of my portfolio: 1.89')\n",
        "\n",
        "print('Cummaltive Retrun of equal portfolio: ' + f'{total_return*100:.2f}%')\n",
        "print('Cummaltive Retrun of my portfolio: 23.92%')\n",
        "\n",
        "print('Volatility of equal portfolio: ' + f'{vol*100:.2f}%')\n",
        "print('Volatility of my portfolio: 10.44%')\n",
        "\n"
      ]
    },
    {
      "cell_type": "markdown",
      "metadata": {
        "id": "EgSZ3A0uK5Q2"
      },
      "source": [
        "In the following cell, write any comments about your code and reasoning, such as what the takeaways are from the backtesting, what you noticed about the results, what they tell you, what you would do differently next time, etc."
      ]
    },
    {
      "cell_type": "code",
      "execution_count": 1031,
      "metadata": {
        "id": "KY5JP3Y9LJDS"
      },
      "outputs": [
        {
          "data": {
            "text/plain": [
              "'\\nFrom the backtesting I learned that my portfolio performs worse than the S&P500\\nand if I did not assign any unqiue weights at all. I notice that the volatility\\nof my portfolio is lower than the S&P500. This means my portfolio is more stable\\nthan the S&P500 which was one of my goals with my portfolio. I also found it interesting\\nhow the equally weighted portfolio has a higher sharpe ratio than the S&P500. This means\\nthe risk of the S&P500 is not being offset by its return as much as equally weighted\\nprofolio. I wonder how the S&P500 makes their portfolio and the factors they \\nweigh the most.\\n'"
            ]
          },
          "execution_count": 1031,
          "metadata": {},
          "output_type": "execute_result"
        }
      ],
      "source": [
        "\"\"\"\n",
        "From the backtesting I learned that my portfolio performs worse than the S&P500\n",
        "and if I did not assign any unqiue weights at all. I notice that the volatility\n",
        "of my portfolio is lower than the S&P500. This means my portfolio is more stable\n",
        "than the S&P500 which was one of my goals with my portfolio. I also found it interesting\n",
        "how the equally weighted portfolio has a higher sharpe ratio than the S&P500. This means\n",
        "the risk of the S&P500 is not being offset by its return as much as equally weighted\n",
        "profolio. I wonder how the S&P500 makes their portfolio and the factors they \n",
        "weigh the most.\n",
        "\"\"\""
      ]
    },
    {
      "cell_type": "markdown",
      "metadata": {
        "id": "VZqSUCaULOgb"
      },
      "source": [
        "# References, Reflection, and Submission"
      ]
    },
    {
      "cell_type": "markdown",
      "metadata": {
        "id": "mklOU4uJLVaf"
      },
      "source": [
        "In the following cell, list any references and resources you used to help you with this coding challenge (including ChatGPT), and what you got out of each resource. There's nothing wrong with getting help, but it's important to cite when you do!"
      ]
    },
    {
      "cell_type": "code",
      "execution_count": 1032,
      "metadata": {
        "id": "fqrIrLx_LVDC"
      },
      "outputs": [
        {
          "data": {
            "text/plain": [
              "'\\nProblem 1:\\nStack Overflow: I used this for all parts to help with syntaxing\\n\\nChatGPT: I was not sure of the syntax to use so I asked ChatGPT to write code for ideas I was not sure\\nhow to implement. I also used it for debugging.\\n\\nIntroduction to the Capital Asset Pricing Model (CAPM) with Python by Peter Foy: I used this to get\\na grasp of the overall struture to use for the CAPM code.\\n\\nI used Investopedia to find stats like annual return of S&P500 and treasury rate\\n\\nProblem 2:\\nChatGPT: I asked it to explain what each statisic was in each column of each sheet to help me better\\nunderstand what each stat meant. I also used it to find the equations for P/E, EV/EBITDA\\nand P/S.\\n\\nInvestopedia: I used it to help figure out what factors investors currently find the most important\\n\\nGoogle: I used google to find the share prices of each stock currently.\\n\\nGeeksforGeeks: I used this to help me read the second data set because it wsa and excel file \\nwith multiple sheets.\\n\\n'"
            ]
          },
          "execution_count": 1032,
          "metadata": {},
          "output_type": "execute_result"
        }
      ],
      "source": [
        "\"\"\"\n",
        "Problem 1:\n",
        "Stack Overflow: I used this for all parts to help with syntaxing\n",
        "\n",
        "ChatGPT: I was not sure of the syntax to use so I asked ChatGPT to write code for ideas I was not sure\n",
        "how to implement. I also used it for debugging.\n",
        "\n",
        "Introduction to the Capital Asset Pricing Model (CAPM) with Python by Peter Foy: I used this to get\n",
        "a grasp of the overall struture to use for the CAPM code.\n",
        "\n",
        "I used Investopedia to find stats like annual return of S&P500 and treasury rate\n",
        "\n",
        "Problem 2:\n",
        "ChatGPT: I asked it to explain what each statisic was in each column of each sheet to help me better\n",
        "understand what each stat meant. I also used it to find the equations for P/E, EV/EBITDA\n",
        "and P/S.\n",
        "\n",
        "Investopedia: I used it to help figure out what factors investors currently find the most important\n",
        "\n",
        "Google: I used google to find the share prices of each stock currently.\n",
        "\n",
        "GeeksforGeeks: I used this to help me read the second data set because it wsa and excel file \n",
        "with multiple sheets.\n",
        "\n",
        "Problem 3:\n",
        "ChatGPT: I used it to help me make a graph because I had little knowledge on how to do that\n",
        "\n",
        "Google: I got the annual returns of each stock and S&P500 off of market summary\n",
        "\n",
        "Investopedia: I used it to find the equations for volatility and sharpe ratio\n",
        "\"\"\""
      ]
    },
    {
      "cell_type": "markdown",
      "metadata": {
        "id": "NHHy70EpLhPh"
      },
      "source": [
        "In the following cell, write a brief reflection on what you learned from this challenge. What did you do well? What do you wish you had done differently? Is there anything else you would like to add about your code or process that would help us understand?"
      ]
    },
    {
      "cell_type": "code",
      "execution_count": 1033,
      "metadata": {
        "id": "nR34ZncELhAB"
      },
      "outputs": [
        {
          "data": {
            "text/plain": [
              "'\\n\\nComments here.\\n\\n'"
            ]
          },
          "execution_count": 1033,
          "metadata": {},
          "output_type": "execute_result"
        }
      ],
      "source": [
        "\"\"\"\n",
        "From this challenge I learned how to make a model (CAPM and 3-Factor Model) which is something I never done before. By making the models I\n",
        "learned and become familiar with various statisical equations that investors use everyday. I also realized the challenge of making profolios that\n",
        "beat the S&P500 and beat equally weighted profolios in general. I think I did a good job of researching new finincal terms, the signifance of\n",
        "them, and how to implement them. However, I think the way I implemented them may not have been ideal and resulted in a profolio that did not\n",
        "perfrom to the standards I wanted to. If I were to do this challenge again I would try to find more obscure factors for the 3-factor model\n",
        "that investors may not have thought of yet or create my own factor using the data provided. I decided to use factors popular today because I\n",
        "thought the popularity meant it was good to use. Overall, I feel good about the effort I put into implementing and the way I did it, just the\n",
        "solution I arrived to was not ideal.\n",
        "\"\"\""
      ]
    },
    {
      "cell_type": "markdown",
      "metadata": {
        "id": "awN59BLhLvwT"
      },
      "source": [
        "Submit this template file in the format \"firstname_lastname_aa.ipynb\".\n",
        "\n",
        "Example: \"jason_bhalla_aa.ipynb\""
      ]
    }
  ],
  "metadata": {
    "colab": {
      "provenance": []
    },
    "kernelspec": {
      "display_name": "Python 3",
      "name": "python3"
    },
    "language_info": {
      "codemirror_mode": {
        "name": "ipython",
        "version": 3
      },
      "file_extension": ".py",
      "mimetype": "text/x-python",
      "name": "python",
      "nbconvert_exporter": "python",
      "pygments_lexer": "ipython3",
      "version": "3.11.5"
    }
  },
  "nbformat": 4,
  "nbformat_minor": 0
}
